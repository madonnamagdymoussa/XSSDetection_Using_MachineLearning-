{
 "cells": [
  {
   "cell_type": "code",
   "execution_count": 1,
   "id": "63209c60-3d83-4780-b143-9cf290fdaae4",
   "metadata": {},
   "outputs": [
    {
     "name": "stdout",
     "output_type": "stream",
     "text": [
      "hello\n"
     ]
    }
   ],
   "source": [
    "print(\"hello\")\n"
   ]
  },
  {
   "cell_type": "code",
   "execution_count": 48,
   "id": "bfbddcaf-251e-46d5-bfe3-ef3408f2049c",
   "metadata": {},
   "outputs": [
    {
     "name": "stdout",
     "output_type": "stream",
     "text": [
      "Requirement already satisfied: numpy in c:\\users\\dell\\appdata\\local\\programs\\python\\python312\\lib\\site-packages (1.26.2)\n"
     ]
    },
    {
     "name": "stderr",
     "output_type": "stream",
     "text": [
      "\n",
      "[notice] A new release of pip is available: 23.2.1 -> 23.3.2\n",
      "[notice] To update, run: python.exe -m pip install --upgrade pip\n"
     ]
    },
    {
     "name": "stdout",
     "output_type": "stream",
     "text": [
      "Requirement already satisfied: gensim in c:\\users\\dell\\appdata\\local\\programs\\python\\python312\\lib\\site-packages (4.3.2)\n",
      "Requirement already satisfied: numpy>=1.18.5 in c:\\users\\dell\\appdata\\local\\programs\\python\\python312\\lib\\site-packages (from gensim) (1.26.2)\n",
      "Requirement already satisfied: scipy>=1.7.0 in c:\\users\\dell\\appdata\\local\\programs\\python\\python312\\lib\\site-packages (from gensim) (1.11.4)\n",
      "Requirement already satisfied: smart-open>=1.8.1 in c:\\users\\dell\\appdata\\local\\programs\\python\\python312\\lib\\site-packages (from gensim) (6.4.0)\n"
     ]
    },
    {
     "name": "stderr",
     "output_type": "stream",
     "text": [
      "\n",
      "[notice] A new release of pip is available: 23.2.1 -> 23.3.2\n",
      "[notice] To update, run: python.exe -m pip install --upgrade pip\n"
     ]
    },
    {
     "name": "stdout",
     "output_type": "stream",
     "text": [
      "Requirement already satisfied: python-Levenshtein in c:\\users\\dell\\appdata\\local\\programs\\python\\python312\\lib\\site-packages (0.23.0)"
     ]
    },
    {
     "name": "stderr",
     "output_type": "stream",
     "text": [
      "\n",
      "[notice] A new release of pip is available: 23.2.1 -> 23.3.2\n",
      "[notice] To update, run: python.exe -m pip install --upgrade pip\n"
     ]
    },
    {
     "name": "stdout",
     "output_type": "stream",
     "text": [
      "\n",
      "Requirement already satisfied: Levenshtein==0.23.0 in c:\\users\\dell\\appdata\\local\\programs\\python\\python312\\lib\\site-packages (from python-Levenshtein) (0.23.0)\n",
      "Requirement already satisfied: rapidfuzz<4.0.0,>=3.1.0 in c:\\users\\dell\\appdata\\local\\programs\\python\\python312\\lib\\site-packages (from Levenshtein==0.23.0->python-Levenshtein) (3.6.0)\n",
      "Requirement already satisfied: nltk in c:\\users\\dell\\appdata\\local\\programs\\python\\python312\\lib\\site-packages (3.8.1)"
     ]
    },
    {
     "name": "stderr",
     "output_type": "stream",
     "text": [
      "\n",
      "[notice] A new release of pip is available: 23.2.1 -> 23.3.2\n",
      "[notice] To update, run: python.exe -m pip install --upgrade pip\n"
     ]
    },
    {
     "name": "stdout",
     "output_type": "stream",
     "text": [
      "\n",
      "Requirement already satisfied: click in c:\\users\\dell\\appdata\\local\\programs\\python\\python312\\lib\\site-packages (from nltk) (8.1.7)\n",
      "Requirement already satisfied: joblib in c:\\users\\dell\\appdata\\local\\programs\\python\\python312\\lib\\site-packages (from nltk) (1.3.2)\n",
      "Requirement already satisfied: regex>=2021.8.3 in c:\\users\\dell\\appdata\\local\\programs\\python\\python312\\lib\\site-packages (from nltk) (2023.12.25)\n",
      "Requirement already satisfied: tqdm in c:\\users\\dell\\appdata\\local\\programs\\python\\python312\\lib\\site-packages (from nltk) (4.66.1)\n",
      "Requirement already satisfied: colorama in c:\\users\\dell\\appdata\\local\\programs\\python\\python312\\lib\\site-packages (from click->nltk) (0.4.6)\n",
      "Requirement already satisfied: scikit-learn in c:\\users\\dell\\appdata\\local\\programs\\python\\python312\\lib\\site-packages (1.3.2)\n",
      "Requirement already satisfied: numpy<2.0,>=1.17.3 in c:\\users\\dell\\appdata\\local\\programs\\python\\python312\\lib\\site-packages (from scikit-learn) (1.26.2)\n",
      "Requirement already satisfied: scipy>=1.5.0 in c:\\users\\dell\\appdata\\local\\programs\\python\\python312\\lib\\site-packages (from scikit-learn) (1.11.4)\n",
      "Requirement already satisfied: joblib>=1.1.1 in c:\\users\\dell\\appdata\\local\\programs\\python\\python312\\lib\\site-packages (from scikit-learn) (1.3.2)\n",
      "Requirement already satisfied: threadpoolctl>=2.0.0 in c:\\users\\dell\\appdata\\local\\programs\\python\\python312\\lib\\site-packages (from scikit-learn) (3.2.0)\n"
     ]
    },
    {
     "name": "stderr",
     "output_type": "stream",
     "text": [
      "\n",
      "[notice] A new release of pip is available: 23.2.1 -> 23.3.2\n",
      "[notice] To update, run: python.exe -m pip install --upgrade pip\n"
     ]
    },
    {
     "name": "stdout",
     "output_type": "stream",
     "text": [
      "Collecting pandas\n",
      "  Obtaining dependency information for pandas from https://files.pythonhosted.org/packages/ae/d9/3741b344f57484b423cd22194025a8489992ad9962196a62721ef9980045/pandas-2.1.4-cp312-cp312-win_amd64.whl.metadata\n",
      "  Downloading pandas-2.1.4-cp312-cp312-win_amd64.whl.metadata (18 kB)\n",
      "Requirement already satisfied: numpy<2,>=1.26.0 in c:\\users\\dell\\appdata\\local\\programs\\python\\python312\\lib\\site-packages (from pandas) (1.26.2)\n",
      "Requirement already satisfied: python-dateutil>=2.8.2 in c:\\users\\dell\\appdata\\local\\programs\\python\\python312\\lib\\site-packages (from pandas) (2.8.2)\n",
      "Collecting pytz>=2020.1 (from pandas)\n",
      "  Obtaining dependency information for pytz>=2020.1 from https://files.pythonhosted.org/packages/32/4d/aaf7eff5deb402fd9a24a1449a8119f00d74ae9c2efa79f8ef9994261fc2/pytz-2023.3.post1-py2.py3-none-any.whl.metadata\n",
      "  Downloading pytz-2023.3.post1-py2.py3-none-any.whl.metadata (22 kB)\n",
      "Collecting tzdata>=2022.1 (from pandas)\n",
      "  Downloading tzdata-2023.3-py2.py3-none-any.whl (341 kB)\n",
      "     ---------------------------------------- 0.0/341.8 kB ? eta -:--:--\n",
      "     --- --------------------------------- 30.7/341.8 kB 660.6 kB/s eta 0:00:01\n",
      "     --- --------------------------------- 30.7/341.8 kB 660.6 kB/s eta 0:00:01\n",
      "     ------ ------------------------------ 61.4/341.8 kB 469.7 kB/s eta 0:00:01\n",
      "     ----------- ------------------------ 112.6/341.8 kB 656.4 kB/s eta 0:00:01\n",
      "     --------------- -------------------- 143.4/341.8 kB 655.8 kB/s eta 0:00:01\n",
      "     ------------------ ----------------- 174.1/341.8 kB 700.2 kB/s eta 0:00:01\n",
      "     --------------------- -------------- 204.8/341.8 kB 692.4 kB/s eta 0:00:01\n",
      "     -------------------------- --------- 256.0/341.8 kB 787.7 kB/s eta 0:00:01\n",
      "     ----------------------------- ------ 276.5/341.8 kB 776.2 kB/s eta 0:00:01\n",
      "     --------------------------------- -- 317.4/341.8 kB 729.7 kB/s eta 0:00:01\n",
      "     ------------------------------------ 341.8/341.8 kB 758.8 kB/s eta 0:00:00\n",
      "Requirement already satisfied: six>=1.5 in c:\\users\\dell\\appdata\\local\\programs\\python\\python312\\lib\\site-packages (from python-dateutil>=2.8.2->pandas) (1.16.0)\n",
      "Downloading pandas-2.1.4-cp312-cp312-win_amd64.whl (10.5 MB)\n",
      "   ---------------------------------------- 0.0/10.5 MB ? eta -:--:--\n",
      "   ---------------------------------------- 0.1/10.5 MB 1.7 MB/s eta 0:00:07\n",
      "   ---------------------------------------- 0.1/10.5 MB 1.6 MB/s eta 0:00:07\n",
      "   ---------------------------------------- 0.1/10.5 MB 1.6 MB/s eta 0:00:07\n",
      "   ---------------------------------------- 0.1/10.5 MB 804.6 kB/s eta 0:00:13\n",
      "    --------------------------------------- 0.2/10.5 MB 807.1 kB/s eta 0:00:13\n",
      "    --------------------------------------- 0.2/10.5 MB 919.0 kB/s eta 0:00:12\n",
      "    --------------------------------------- 0.2/10.5 MB 919.0 kB/s eta 0:00:12\n",
      "   - -------------------------------------- 0.3/10.5 MB 806.1 kB/s eta 0:00:13\n",
      "   - -------------------------------------- 0.3/10.5 MB 873.8 kB/s eta 0:00:12\n",
      "   - -------------------------------------- 0.4/10.5 MB 857.5 kB/s eta 0:00:12\n",
      "   - -------------------------------------- 0.4/10.5 MB 904.2 kB/s eta 0:00:12\n",
      "   - -------------------------------------- 0.5/10.5 MB 894.8 kB/s eta 0:00:12\n",
      "   - -------------------------------------- 0.5/10.5 MB 937.7 kB/s eta 0:00:11\n",
      "   -- ------------------------------------- 0.5/10.5 MB 929.3 kB/s eta 0:00:11\n",
      "   -- ------------------------------------- 0.6/10.5 MB 880.0 kB/s eta 0:00:12\n",
      "   -- ------------------------------------- 0.6/10.5 MB 874.1 kB/s eta 0:00:12\n",
      "   -- ------------------------------------- 0.6/10.5 MB 841.4 kB/s eta 0:00:12\n",
      "   -- ------------------------------------- 0.7/10.5 MB 856.7 kB/s eta 0:00:12\n",
      "   -- ------------------------------------- 0.7/10.5 MB 887.6 kB/s eta 0:00:12\n",
      "   -- ------------------------------------- 0.8/10.5 MB 894.1 kB/s eta 0:00:11\n",
      "   --- ------------------------------------ 0.8/10.5 MB 904.2 kB/s eta 0:00:11\n",
      "   --- ------------------------------------ 0.9/10.5 MB 918.0 kB/s eta 0:00:11\n",
      "   --- ------------------------------------ 0.9/10.5 MB 920.3 kB/s eta 0:00:11\n",
      "   --- ------------------------------------ 0.9/10.5 MB 908.0 kB/s eta 0:00:11\n",
      "   --- ------------------------------------ 1.0/10.5 MB 896.7 kB/s eta 0:00:11\n",
      "   --- ------------------------------------ 1.0/10.5 MB 892.0 kB/s eta 0:00:11\n",
      "   ---- ----------------------------------- 1.1/10.5 MB 912.4 kB/s eta 0:00:11\n",
      "   ---- ----------------------------------- 1.1/10.5 MB 916.4 kB/s eta 0:00:11\n",
      "   ---- ----------------------------------- 1.2/10.5 MB 933.9 kB/s eta 0:00:10\n",
      "   ---- ----------------------------------- 1.2/10.5 MB 933.9 kB/s eta 0:00:10\n",
      "   ---- ----------------------------------- 1.2/10.5 MB 904.2 kB/s eta 0:00:11\n",
      "   ---- ----------------------------------- 1.3/10.5 MB 935.6 kB/s eta 0:00:10\n",
      "   ----- ---------------------------------- 1.3/10.5 MB 929.6 kB/s eta 0:00:10\n",
      "   ----- ---------------------------------- 1.4/10.5 MB 934.7 kB/s eta 0:00:10\n",
      "   ----- ---------------------------------- 1.4/10.5 MB 926.0 kB/s eta 0:00:10\n",
      "   ----- ---------------------------------- 1.5/10.5 MB 944.0 kB/s eta 0:00:10\n",
      "   ----- ---------------------------------- 1.5/10.5 MB 954.6 kB/s eta 0:00:10\n",
      "   ----- ---------------------------------- 1.5/10.5 MB 954.6 kB/s eta 0:00:10\n",
      "   ----- ---------------------------------- 1.5/10.5 MB 954.6 kB/s eta 0:00:10\n",
      "   ------ --------------------------------- 1.6/10.5 MB 915.3 kB/s eta 0:00:10\n",
      "   ------ --------------------------------- 1.7/10.5 MB 918.0 kB/s eta 0:00:10\n",
      "   ------ --------------------------------- 1.7/10.5 MB 924.3 kB/s eta 0:00:10\n",
      "   ------ --------------------------------- 1.8/10.5 MB 933.9 kB/s eta 0:00:10\n",
      "   ------ --------------------------------- 1.8/10.5 MB 938.2 kB/s eta 0:00:10\n",
      "   ------- -------------------------------- 1.9/10.5 MB 934.2 kB/s eta 0:00:10\n",
      "   ------- -------------------------------- 1.9/10.5 MB 942.8 kB/s eta 0:00:10\n",
      "   ------- -------------------------------- 2.0/10.5 MB 960.9 kB/s eta 0:00:09\n",
      "   ------- -------------------------------- 2.0/10.5 MB 958.9 kB/s eta 0:00:09\n",
      "   ------- -------------------------------- 2.1/10.5 MB 955.2 kB/s eta 0:00:09\n",
      "   -------- ------------------------------- 2.1/10.5 MB 948.8 kB/s eta 0:00:09\n",
      "   -------- ------------------------------- 2.2/10.5 MB 960.7 kB/s eta 0:00:09\n",
      "   -------- ------------------------------- 2.2/10.5 MB 965.5 kB/s eta 0:00:09\n",
      "   -------- ------------------------------- 2.3/10.5 MB 976.7 kB/s eta 0:00:09\n",
      "   --------- ------------------------------ 2.4/10.5 MB 983.1 kB/s eta 0:00:09\n",
      "   --------- ------------------------------ 2.4/10.5 MB 985.2 kB/s eta 0:00:09\n",
      "   --------- ------------------------------ 2.5/10.5 MB 978.9 kB/s eta 0:00:09\n",
      "   --------- ------------------------------ 2.5/10.5 MB 981.4 kB/s eta 0:00:09\n",
      "   --------- ------------------------------ 2.6/10.5 MB 995.2 kB/s eta 0:00:08\n",
      "   ---------- ----------------------------- 2.7/10.5 MB 1.0 MB/s eta 0:00:08\n",
      "   ---------- ----------------------------- 2.7/10.5 MB 1.0 MB/s eta 0:00:08\n",
      "   ---------- ----------------------------- 2.8/10.5 MB 1.0 MB/s eta 0:00:08\n",
      "   ---------- ----------------------------- 2.8/10.5 MB 1.0 MB/s eta 0:00:08\n",
      "   ---------- ----------------------------- 2.9/10.5 MB 1.0 MB/s eta 0:00:08\n",
      "   ---------- ----------------------------- 2.9/10.5 MB 1.0 MB/s eta 0:00:08\n",
      "   ----------- ---------------------------- 2.9/10.5 MB 1.0 MB/s eta 0:00:08\n",
      "   ----------- ---------------------------- 3.0/10.5 MB 1.0 MB/s eta 0:00:08\n",
      "   ----------- ---------------------------- 3.0/10.5 MB 1.0 MB/s eta 0:00:08\n",
      "   ----------- ---------------------------- 3.1/10.5 MB 1.0 MB/s eta 0:00:08\n",
      "   ------------ --------------------------- 3.2/10.5 MB 1.0 MB/s eta 0:00:08\n",
      "   ------------ --------------------------- 3.2/10.5 MB 1.0 MB/s eta 0:00:08\n",
      "   ------------ --------------------------- 3.3/10.5 MB 1.0 MB/s eta 0:00:08\n",
      "   ------------ --------------------------- 3.3/10.5 MB 1.0 MB/s eta 0:00:07\n",
      "   ------------ --------------------------- 3.4/10.5 MB 1.0 MB/s eta 0:00:07\n",
      "   ------------- -------------------------- 3.4/10.5 MB 1.0 MB/s eta 0:00:07\n",
      "   ------------- -------------------------- 3.5/10.5 MB 1.0 MB/s eta 0:00:07\n",
      "   ------------- -------------------------- 3.6/10.5 MB 1.0 MB/s eta 0:00:07\n",
      "   ------------- -------------------------- 3.6/10.5 MB 1.0 MB/s eta 0:00:07\n",
      "   -------------- ------------------------- 3.7/10.5 MB 1.0 MB/s eta 0:00:07\n",
      "   -------------- ------------------------- 3.7/10.5 MB 1.1 MB/s eta 0:00:07\n",
      "   -------------- ------------------------- 3.8/10.5 MB 1.1 MB/s eta 0:00:07\n",
      "   -------------- ------------------------- 3.8/10.5 MB 1.1 MB/s eta 0:00:07\n",
      "   -------------- ------------------------- 3.9/10.5 MB 1.1 MB/s eta 0:00:07\n",
      "   --------------- ------------------------ 4.0/10.5 MB 1.1 MB/s eta 0:00:07\n",
      "   --------------- ------------------------ 4.0/10.5 MB 1.1 MB/s eta 0:00:07\n",
      "   --------------- ------------------------ 4.1/10.5 MB 1.1 MB/s eta 0:00:07\n",
      "   --------------- ------------------------ 4.1/10.5 MB 1.1 MB/s eta 0:00:06\n",
      "   ---------------- ----------------------- 4.2/10.5 MB 1.1 MB/s eta 0:00:06\n",
      "   ---------------- ----------------------- 4.3/10.5 MB 1.1 MB/s eta 0:00:06\n",
      "   ---------------- ----------------------- 4.3/10.5 MB 1.1 MB/s eta 0:00:06\n",
      "   ---------------- ----------------------- 4.4/10.5 MB 1.1 MB/s eta 0:00:06\n",
      "   ---------------- ----------------------- 4.4/10.5 MB 1.1 MB/s eta 0:00:06\n",
      "   ----------------- ---------------------- 4.5/10.5 MB 1.1 MB/s eta 0:00:06\n",
      "   ----------------- ---------------------- 4.5/10.5 MB 1.1 MB/s eta 0:00:06\n",
      "   ----------------- ---------------------- 4.6/10.5 MB 1.1 MB/s eta 0:00:06\n",
      "   ----------------- ---------------------- 4.6/10.5 MB 1.1 MB/s eta 0:00:06\n",
      "   ----------------- ---------------------- 4.7/10.5 MB 1.1 MB/s eta 0:00:06\n",
      "   ----------------- ---------------------- 4.7/10.5 MB 1.1 MB/s eta 0:00:06\n",
      "   ------------------ --------------------- 4.8/10.5 MB 1.1 MB/s eta 0:00:06\n",
      "   ------------------ --------------------- 4.8/10.5 MB 1.1 MB/s eta 0:00:06\n",
      "   ------------------ --------------------- 4.9/10.5 MB 1.1 MB/s eta 0:00:06\n",
      "   ------------------ --------------------- 5.0/10.5 MB 1.1 MB/s eta 0:00:06\n",
      "   ------------------- -------------------- 5.0/10.5 MB 1.1 MB/s eta 0:00:06\n",
      "   ------------------- -------------------- 5.1/10.5 MB 1.1 MB/s eta 0:00:05\n",
      "   ------------------- -------------------- 5.1/10.5 MB 1.1 MB/s eta 0:00:05\n",
      "   ------------------- -------------------- 5.2/10.5 MB 1.1 MB/s eta 0:00:05\n",
      "   ------------------- -------------------- 5.2/10.5 MB 1.1 MB/s eta 0:00:05\n",
      "   -------------------- ------------------- 5.3/10.5 MB 1.1 MB/s eta 0:00:05\n",
      "   -------------------- ------------------- 5.3/10.5 MB 1.1 MB/s eta 0:00:05\n",
      "   -------------------- ------------------- 5.4/10.5 MB 1.1 MB/s eta 0:00:05\n",
      "   -------------------- ------------------- 5.4/10.5 MB 1.1 MB/s eta 0:00:05\n",
      "   -------------------- ------------------- 5.5/10.5 MB 1.1 MB/s eta 0:00:05\n",
      "   -------------------- ------------------- 5.5/10.5 MB 1.1 MB/s eta 0:00:05\n",
      "   --------------------- ------------------ 5.6/10.5 MB 1.1 MB/s eta 0:00:05\n",
      "   --------------------- ------------------ 5.6/10.5 MB 1.1 MB/s eta 0:00:05\n",
      "   --------------------- ------------------ 5.7/10.5 MB 1.1 MB/s eta 0:00:05\n",
      "   --------------------- ------------------ 5.7/10.5 MB 1.1 MB/s eta 0:00:05\n",
      "   --------------------- ------------------ 5.7/10.5 MB 1.1 MB/s eta 0:00:05\n",
      "   --------------------- ------------------ 5.7/10.5 MB 1.1 MB/s eta 0:00:05\n",
      "   --------------------- ------------------ 5.8/10.5 MB 1.1 MB/s eta 0:00:05\n",
      "   ---------------------- ----------------- 5.8/10.5 MB 1.1 MB/s eta 0:00:05\n",
      "   ---------------------- ----------------- 5.8/10.5 MB 1.1 MB/s eta 0:00:05\n",
      "   ---------------------- ----------------- 5.8/10.5 MB 1.1 MB/s eta 0:00:05\n",
      "   ---------------------- ----------------- 5.9/10.5 MB 1.1 MB/s eta 0:00:05\n",
      "   ---------------------- ----------------- 5.9/10.5 MB 1.1 MB/s eta 0:00:05\n",
      "   ---------------------- ----------------- 5.9/10.5 MB 1.1 MB/s eta 0:00:05\n",
      "   ---------------------- ----------------- 6.0/10.5 MB 1.0 MB/s eta 0:00:05\n",
      "   ---------------------- ----------------- 6.0/10.5 MB 1.0 MB/s eta 0:00:05\n",
      "   ----------------------- ---------------- 6.1/10.5 MB 1.0 MB/s eta 0:00:05\n",
      "   ----------------------- ---------------- 6.1/10.5 MB 1.0 MB/s eta 0:00:05\n",
      "   ----------------------- ---------------- 6.2/10.5 MB 1.0 MB/s eta 0:00:05\n",
      "   ----------------------- ---------------- 6.2/10.5 MB 1.0 MB/s eta 0:00:05\n",
      "   ----------------------- ---------------- 6.2/10.5 MB 1.0 MB/s eta 0:00:05\n",
      "   ----------------------- ---------------- 6.3/10.5 MB 1.0 MB/s eta 0:00:05\n",
      "   ------------------------ --------------- 6.3/10.5 MB 1.0 MB/s eta 0:00:05\n",
      "   ------------------------ --------------- 6.3/10.5 MB 1.0 MB/s eta 0:00:04\n",
      "   ------------------------ --------------- 6.4/10.5 MB 1.0 MB/s eta 0:00:04\n",
      "   ------------------------ --------------- 6.4/10.5 MB 1.0 MB/s eta 0:00:04\n",
      "   ------------------------ --------------- 6.5/10.5 MB 1.0 MB/s eta 0:00:04\n",
      "   ------------------------ --------------- 6.5/10.5 MB 1.0 MB/s eta 0:00:04\n",
      "   ------------------------ --------------- 6.5/10.5 MB 1.0 MB/s eta 0:00:04\n",
      "   ------------------------- -------------- 6.6/10.5 MB 1.0 MB/s eta 0:00:04\n",
      "   ------------------------- -------------- 6.6/10.5 MB 1.0 MB/s eta 0:00:04\n",
      "   ------------------------- -------------- 6.7/10.5 MB 1.0 MB/s eta 0:00:04\n",
      "   ------------------------- -------------- 6.7/10.5 MB 1.0 MB/s eta 0:00:04\n",
      "   ------------------------- -------------- 6.7/10.5 MB 1.0 MB/s eta 0:00:04\n",
      "   ------------------------- -------------- 6.7/10.5 MB 1.0 MB/s eta 0:00:04\n",
      "   ------------------------- -------------- 6.8/10.5 MB 1.0 MB/s eta 0:00:04\n",
      "   ------------------------- -------------- 6.8/10.5 MB 1.0 MB/s eta 0:00:04\n",
      "   -------------------------- ------------- 6.9/10.5 MB 1.0 MB/s eta 0:00:04\n",
      "   -------------------------- ------------- 6.9/10.5 MB 1.0 MB/s eta 0:00:04\n",
      "   -------------------------- ------------- 6.9/10.5 MB 1.0 MB/s eta 0:00:04\n",
      "   -------------------------- ------------- 7.0/10.5 MB 1.0 MB/s eta 0:00:04\n",
      "   -------------------------- ------------- 7.0/10.5 MB 1.0 MB/s eta 0:00:04\n",
      "   -------------------------- ------------- 7.0/10.5 MB 1.0 MB/s eta 0:00:04\n",
      "   --------------------------- ------------ 7.1/10.5 MB 1.0 MB/s eta 0:00:04\n",
      "   --------------------------- ------------ 7.2/10.5 MB 1.0 MB/s eta 0:00:04\n",
      "   --------------------------- ------------ 7.2/10.5 MB 1.0 MB/s eta 0:00:04\n",
      "   --------------------------- ------------ 7.2/10.5 MB 1.0 MB/s eta 0:00:04\n",
      "   --------------------------- ------------ 7.2/10.5 MB 1.0 MB/s eta 0:00:04\n",
      "   --------------------------- ------------ 7.3/10.5 MB 1.0 MB/s eta 0:00:04\n",
      "   --------------------------- ------------ 7.3/10.5 MB 1.0 MB/s eta 0:00:04\n",
      "   --------------------------- ------------ 7.3/10.5 MB 1.0 MB/s eta 0:00:04\n",
      "   --------------------------- ------------ 7.3/10.5 MB 1.0 MB/s eta 0:00:04\n",
      "   ---------------------------- ----------- 7.4/10.5 MB 989.4 kB/s eta 0:00:04\n",
      "   ---------------------------- ----------- 7.4/10.5 MB 990.0 kB/s eta 0:00:04\n",
      "   ---------------------------- ----------- 7.4/10.5 MB 989.9 kB/s eta 0:00:04\n",
      "   ---------------------------- ----------- 7.5/10.5 MB 990.6 kB/s eta 0:00:04\n",
      "   ---------------------------- ----------- 7.5/10.5 MB 986.5 kB/s eta 0:00:04\n",
      "   ---------------------------- ----------- 7.6/10.5 MB 989.2 kB/s eta 0:00:03\n",
      "   ---------------------------- ----------- 7.6/10.5 MB 985.8 kB/s eta 0:00:03\n",
      "   ---------------------------- ----------- 7.6/10.5 MB 985.8 kB/s eta 0:00:03\n",
      "   ----------------------------- ---------- 7.6/10.5 MB 975.9 kB/s eta 0:00:03\n",
      "   ----------------------------- ---------- 7.7/10.5 MB 976.6 kB/s eta 0:00:03\n",
      "   ----------------------------- ---------- 7.7/10.5 MB 973.4 kB/s eta 0:00:03\n",
      "   ----------------------------- ---------- 7.7/10.5 MB 973.5 kB/s eta 0:00:03\n",
      "   ----------------------------- ---------- 7.8/10.5 MB 972.2 kB/s eta 0:00:03\n",
      "   ----------------------------- ---------- 7.8/10.5 MB 972.9 kB/s eta 0:00:03\n",
      "   ----------------------------- ---------- 7.9/10.5 MB 970.5 kB/s eta 0:00:03\n",
      "   ------------------------------ --------- 7.9/10.5 MB 973.0 kB/s eta 0:00:03\n",
      "   ------------------------------ --------- 8.0/10.5 MB 974.3 kB/s eta 0:00:03\n",
      "   ------------------------------ --------- 8.0/10.5 MB 972.5 kB/s eta 0:00:03\n",
      "   ------------------------------ --------- 8.0/10.5 MB 974.4 kB/s eta 0:00:03\n",
      "   ------------------------------ --------- 8.0/10.5 MB 974.4 kB/s eta 0:00:03\n",
      "   ------------------------------ --------- 8.0/10.5 MB 974.4 kB/s eta 0:00:03\n",
      "   ------------------------------ --------- 8.0/10.5 MB 974.4 kB/s eta 0:00:03\n",
      "   ------------------------------ --------- 8.1/10.5 MB 955.2 kB/s eta 0:00:03\n",
      "   ------------------------------- -------- 8.3/10.5 MB 978.2 kB/s eta 0:00:03\n",
      "   ------------------------------- -------- 8.4/10.5 MB 976.5 kB/s eta 0:00:03\n",
      "   ------------------------------- -------- 8.4/10.5 MB 976.0 kB/s eta 0:00:03\n",
      "   -------------------------------- ------- 8.5/10.5 MB 979.0 kB/s eta 0:00:03\n",
      "   -------------------------------- ------- 8.5/10.5 MB 980.7 kB/s eta 0:00:03\n",
      "   -------------------------------- ------- 8.6/10.5 MB 980.8 kB/s eta 0:00:02\n",
      "   -------------------------------- ------- 8.6/10.5 MB 983.0 kB/s eta 0:00:02\n",
      "   --------------------------------- ------ 8.7/10.5 MB 982.5 kB/s eta 0:00:02\n",
      "   --------------------------------- ------ 8.7/10.5 MB 985.4 kB/s eta 0:00:02\n",
      "   --------------------------------- ------ 8.8/10.5 MB 986.5 kB/s eta 0:00:02\n",
      "   --------------------------------- ------ 8.8/10.5 MB 987.1 kB/s eta 0:00:02\n",
      "   --------------------------------- ------ 8.9/10.5 MB 985.3 kB/s eta 0:00:02\n",
      "   --------------------------------- ------ 8.9/10.5 MB 983.7 kB/s eta 0:00:02\n",
      "   ---------------------------------- ----- 9.0/10.5 MB 984.2 kB/s eta 0:00:02\n",
      "   ---------------------------------- ----- 9.0/10.5 MB 983.6 kB/s eta 0:00:02\n",
      "   ---------------------------------- ----- 9.0/10.5 MB 979.7 kB/s eta 0:00:02\n",
      "   ---------------------------------- ----- 9.0/10.5 MB 979.2 kB/s eta 0:00:02\n",
      "   ---------------------------------- ----- 9.0/10.5 MB 979.2 kB/s eta 0:00:02\n",
      "   ---------------------------------- ----- 9.1/10.5 MB 973.2 kB/s eta 0:00:02\n",
      "   ---------------------------------- ----- 9.1/10.5 MB 973.3 kB/s eta 0:00:02\n",
      "   ---------------------------------- ----- 9.1/10.5 MB 972.1 kB/s eta 0:00:02\n",
      "   ---------------------------------- ----- 9.1/10.5 MB 968.5 kB/s eta 0:00:02\n",
      "   ---------------------------------- ----- 9.2/10.5 MB 964.2 kB/s eta 0:00:02\n",
      "   ---------------------------------- ----- 9.2/10.5 MB 964.3 kB/s eta 0:00:02\n",
      "   ----------------------------------- ---- 9.3/10.5 MB 965.4 kB/s eta 0:00:02\n",
      "   ----------------------------------- ---- 9.3/10.5 MB 965.0 kB/s eta 0:00:02\n",
      "   ----------------------------------- ---- 9.3/10.5 MB 965.7 kB/s eta 0:00:02\n",
      "   ----------------------------------- ---- 9.4/10.5 MB 965.7 kB/s eta 0:00:02\n",
      "   ----------------------------------- ---- 9.4/10.5 MB 964.8 kB/s eta 0:00:02\n",
      "   ------------------------------------ --- 9.5/10.5 MB 965.3 kB/s eta 0:00:02\n",
      "   ------------------------------------ --- 9.5/10.5 MB 963.9 kB/s eta 0:00:02\n",
      "   ------------------------------------ --- 9.5/10.5 MB 963.9 kB/s eta 0:00:01\n",
      "   ------------------------------------ --- 9.6/10.5 MB 963.0 kB/s eta 0:00:01\n",
      "   ------------------------------------ --- 9.6/10.5 MB 964.6 kB/s eta 0:00:01\n",
      "   ------------------------------------ --- 9.7/10.5 MB 965.7 kB/s eta 0:00:01\n",
      "   ------------------------------------- -- 9.7/10.5 MB 966.3 kB/s eta 0:00:01\n",
      "   ------------------------------------- -- 9.8/10.5 MB 963.4 kB/s eta 0:00:01\n",
      "   ------------------------------------- -- 9.8/10.5 MB 965.0 kB/s eta 0:00:01\n",
      "   ------------------------------------- -- 9.9/10.5 MB 966.5 kB/s eta 0:00:01\n",
      "   ------------------------------------- -- 9.9/10.5 MB 964.1 kB/s eta 0:00:01\n",
      "   ------------------------------------- -- 10.0/10.5 MB 963.7 kB/s eta 0:00:01\n",
      "   -------------------------------------- - 10.0/10.5 MB 963.9 kB/s eta 0:00:01\n",
      "   -------------------------------------- - 10.1/10.5 MB 962.5 kB/s eta 0:00:01\n",
      "   -------------------------------------- - 10.1/10.5 MB 962.6 kB/s eta 0:00:01\n",
      "   -------------------------------------- - 10.1/10.5 MB 962.6 kB/s eta 0:00:01\n",
      "   -------------------------------------- - 10.1/10.5 MB 962.6 kB/s eta 0:00:01\n",
      "   -------------------------------------- - 10.1/10.5 MB 953.6 kB/s eta 0:00:01\n",
      "   -------------------------------------- - 10.2/10.5 MB 952.3 kB/s eta 0:00:01\n",
      "   -------------------------------------- - 10.2/10.5 MB 952.4 kB/s eta 0:00:01\n",
      "   -------------------------------------- - 10.2/10.5 MB 951.1 kB/s eta 0:00:01\n",
      "   ---------------------------------------  10.3/10.5 MB 950.2 kB/s eta 0:00:01\n",
      "   ---------------------------------------  10.3/10.5 MB 950.2 kB/s eta 0:00:01\n",
      "   ---------------------------------------  10.3/10.5 MB 954.4 kB/s eta 0:00:01\n",
      "   ---------------------------------------  10.4/10.5 MB 954.4 kB/s eta 0:00:01\n",
      "   ---------------------------------------  10.4/10.5 MB 950.2 kB/s eta 0:00:01\n",
      "   ---------------------------------------  10.4/10.5 MB 950.2 kB/s eta 0:00:01\n",
      "   ---------------------------------------  10.5/10.5 MB 954.4 kB/s eta 0:00:01\n",
      "   ---------------------------------------  10.5/10.5 MB 954.4 kB/s eta 0:00:01\n",
      "   ---------------------------------------- 10.5/10.5 MB 946.8 kB/s eta 0:00:00\n",
      "Downloading pytz-2023.3.post1-py2.py3-none-any.whl (502 kB)\n",
      "   ---------------------------------------- 0.0/502.5 kB ? eta -:--:--\n",
      "   -- ------------------------------------- 30.7/502.5 kB 1.3 MB/s eta 0:00:01\n",
      "   ------- -------------------------------- 92.2/502.5 kB 1.1 MB/s eta 0:00:01\n",
      "   --------- ------------------------------ 122.9/502.5 kB 1.0 MB/s eta 0:00:01\n",
      "   --------------- ------------------------ 194.6/502.5 kB 1.1 MB/s eta 0:00:01\n",
      "   --------------- ---------------------- 204.8/502.5 kB 888.4 kB/s eta 0:00:01\n",
      "   ------------------ ------------------- 245.8/502.5 kB 942.1 kB/s eta 0:00:01\n",
      "   ---------------------- --------------- 297.0/502.5 kB 874.1 kB/s eta 0:00:01\n",
      "   -------------------------- ----------- 348.2/502.5 kB 901.1 kB/s eta 0:00:01\n",
      "   --------------------------- ---------- 368.6/502.5 kB 916.6 kB/s eta 0:00:01\n",
      "   -------------------------------- ----- 430.1/502.5 kB 867.4 kB/s eta 0:00:01\n",
      "   ------------------------------------ - 481.3/502.5 kB 912.9 kB/s eta 0:00:01\n",
      "   -------------------------------------- 502.5/502.5 kB 875.8 kB/s eta 0:00:00\n",
      "Installing collected packages: pytz, tzdata, pandas\n",
      "Successfully installed pandas-2.1.4 pytz-2023.3.post1 tzdata-2023.3\n"
     ]
    },
    {
     "name": "stderr",
     "output_type": "stream",
     "text": [
      "\n",
      "[notice] A new release of pip is available: 23.2.1 -> 23.3.2\n",
      "[notice] To update, run: python.exe -m pip install --upgrade pip\n"
     ]
    },
    {
     "name": "stdout",
     "output_type": "stream",
     "text": [
      "Requirement already satisfied: gensim in c:\\users\\dell\\appdata\\local\\programs\\python\\python312\\lib\\site-packages (4.3.2)\n",
      "Requirement already satisfied: numpy>=1.18.5 in c:\\users\\dell\\appdata\\local\\programs\\python\\python312\\lib\\site-packages (from gensim) (1.26.2)\n",
      "Requirement already satisfied: scipy>=1.7.0 in c:\\users\\dell\\appdata\\local\\programs\\python\\python312\\lib\\site-packages (from gensim) (1.11.4)\n",
      "Requirement already satisfied: smart-open>=1.8.1 in c:\\users\\dell\\appdata\\local\\programs\\python\\python312\\lib\\site-packages (from gensim) (6.4.0)\n"
     ]
    },
    {
     "name": "stderr",
     "output_type": "stream",
     "text": [
      "[nltk_data] Downloading package punkt to\n",
      "[nltk_data]     C:\\Users\\DELL\\AppData\\Roaming\\nltk_data...\n",
      "[nltk_data]   Package punkt is already up-to-date!\n",
      "\n",
      "[notice] A new release of pip is available: 23.2.1 -> 23.3.2\n",
      "[notice] To update, run: python.exe -m pip install --upgrade pip\n"
     ]
    }
   ],
   "source": [
    "import sys\n",
    "!{sys.executable} -m pip install -U numpy\n",
    "!{sys.executable} -m pip install -U gensim\n",
    "!{sys.executable} -m pip install -U python-Levenshtein\n",
    "!{sys.executable} -m pip install -U nltk\n",
    "!{sys.executable} -m pip install -U scikit-learn\n",
    "!{sys.executable} -m pip install -U pandas\n",
    "!{sys.executable} -m pip install -U gensim\n",
    "#Import all the dependencies\n",
    "import warnings\n",
    "#warnings.filterwarnings(\"ignore\")\n",
    "import nltk\n",
    "nltk.download('punkt')\n",
    "\n",
    "from gensim.models.doc2vec import Doc2Vec, TaggedDocument\n",
    "from nltk.tokenize import word_tokenize\n",
    "from numpy import *\n",
    "from urllib.parse import unquote\n",
    "\n",
    "import numpy as np\n",
    "import pandas as pd\n",
    "import csv\n",
    "import urllib.parse as parse\n",
    "import pickle"
   ]
  },
  {
   "cell_type": "code",
   "execution_count": 24,
   "id": "2342518f-a32b-4d1f-bbff-0c14bacb0519",
   "metadata": {},
   "outputs": [
    {
     "name": "stdout",
     "output_type": "stream",
     "text": [
      "Gathering Data...\n",
      "****Number of XSS Samples: 38608\n",
      "Number of NOT XSS Samples: 44826\n",
      "Total Samples: 83434\n"
     ]
    }
   ],
   "source": [
    "testXSS = []\n",
    "testNORM = []\n",
    "X_temp = []\n",
    "X = []\n",
    "y = []\n",
    "xssnum = 0\n",
    "notxssnum = 0\n",
    "import urllib.parse  # Import the correct module for Python 3\n",
    "\n",
    "print(\"Gathering Data...\")\n",
    "# gather the XSS string and append the label of 1 to y array\n",
    "with open('testXSS.txt', 'r') as f:\n",
    "    testXSS = f.readlines()\n",
    "print(\"*\", sep=' ', end='', flush=True)\n",
    "# parse out the query part of the URL \n",
    "for line in testXSS:\n",
    "   # query = parse.urlsplit(line)[3]\n",
    "    query = urllib.parse.urlsplit(line)[3] \n",
    "    #try to remove open redirect vulns\n",
    "    if \"?http\" in str(line):\n",
    "        continue\n",
    "    if \"?url=http\" in str(line):\n",
    "        continue\n",
    "    if \"?fwd=http\" in str(line):\n",
    "        continue\n",
    "    if \"?path=http\" in str(line):\n",
    "        continue\n",
    "    if \"=http\" in str(query):\n",
    "        continue\n",
    "    if \"page=search\" in str(query):\n",
    "        continue\n",
    "    if len(query) > 8:\n",
    "        xssnum += 1\n",
    "        #X_temp.append(query)\n",
    "        X_temp.append(line)\n",
    "        \n",
    "# remove duplicates\n",
    "dedup = list(dict.fromkeys(X_temp))\n",
    "print(\"*\", sep=' ', end='', flush=True)\n",
    "# Add a feature to X and label to the y array\n",
    "for line in dedup:\n",
    "    #print(\"XSS => \"+line)\n",
    "    X.append(line)\n",
    "    y.append(1)\n",
    "    \n",
    "X_temp = []\n",
    "dedup = []\n",
    "print(\"*\", sep=' ', end='', flush=True)\n",
    "\n",
    "# gather the list of normal string and append the label of 0 to y array \n",
    "with open('testNORM.txt', 'r', encoding='utf-8') as f:\n",
    "    testNORM = f.readlines()\n",
    "    \n",
    "# parse out the query part of the URL \n",
    "for line in testNORM:\n",
    "    query = urllib.parse.urlsplit(line)[3]  # Use urllib.parse.urlsplit\n",
    "    #if \"http\" in str(query):\n",
    "    #    continue\n",
    "    if len(query) > 3:\n",
    "        notxssnum += 1\n",
    "        X_temp.append(line)\n",
    "        \n",
    "# remove duplicates\n",
    "dedup = list(dict.fromkeys(X_temp))\n",
    "print(\"*\", sep=' ', end='', flush=True)\n",
    "# Add a feature to X and a label to the y array\n",
    "for line in dedup:\n",
    "    #print(\"NOT XSS => \"+line)\n",
    "    X.append(line)\n",
    "    y.append(0)\n",
    "\n",
    "print(\"Number of XSS Samples: \"+str(xssnum))\n",
    "print(\"Number of NOT XSS Samples: \"+str(notxssnum))\n",
    "print(\"Total Samples: \"+str(xssnum+notxssnum))\n",
    "\n"
   ]
  },
  {
   "cell_type": "code",
   "execution_count": null,
   "id": "271c65de-54c5-4a1d-83c0-b7a1143d1ad5",
   "metadata": {},
   "outputs": [],
   "source": []
  },
  {
   "cell_type": "code",
   "execution_count": 50,
   "id": "c6cbdb48-faaf-47b6-b7aa-a48804a03189",
   "metadata": {},
   "outputs": [
    {
     "name": "stdout",
     "output_type": "stream",
     "text": [
      "i am here\n"
     ]
    }
   ],
   "source": [
    "# Create a function to convert an array of query strings to a set of features\n",
    "print(\"i am here\")\n",
    "\n",
    "from gensim.models.doc2vec import TaggedDocument\n",
    "from nltk.tokenize import word_tokenize\n",
    "# Create a function to convert an array of query strings to a set of features\n",
    "def getVec(text):\n",
    "    tagged_data = [TaggedDocument(words=word_tokenize(_d.lower()), tags=[str(i)]) for i, _d in enumerate(text)]\n",
    "    max_epochs = 25\n",
    "    vec_size = 20\n",
    "    alpha = 0.025\n",
    "\n",
    "    model = Doc2Vec(vector_size=vec_size,\n",
    "                alpha=alpha, \n",
    "                min_alpha=0.00025,\n",
    "                min_count=1,\n",
    "                dm=1)\n",
    "    \n",
    "    model.build_vocab(tagged_data)\n",
    "    print(\"Building the sample vector model...\")\n",
    "    features = []\n",
    "    for epoch in range(max_epochs):\n",
    "        #print('Doc2Vec Iteration {0}'.format(epoch))\n",
    "        print(\"*\", sep=' ', end='', flush=True)\n",
    "        model.random.seed(42)\n",
    "        model.train(tagged_data,\n",
    "                total_examples=model.corpus_count,\n",
    "                epochs=model.epochs)\n",
    "        # decrease the learning rate\n",
    "        model.alpha -= 0.0002\n",
    "        # fix the learning rate, no decay\n",
    "        model.min_alpha = model.alpha\n",
    "    model.save(\"d2v.model\")\n",
    "    print()\n",
    "    print(\"Model Saved\")\n",
    "    for i, line in enumerate(text):\n",
    "        featureVec = [model.dv[i]]\n",
    "        lineDecode = unquote(line)\n",
    "        lineDecode = lineDecode.replace(\" \", \"\")\n",
    "        lowerStr = str(lineDecode).lower()\n",
    "        #print(\"X\"+str(i)+\"=> \"+line)\n",
    "        # We could expand the features\n",
    "        # https://websitesetup.org/javascript-cheat-sheet/\n",
    "        # https://owasp.org/www-community/xss-filter-evasion-cheatsheet\n",
    "        # https://html5sec.org/\n",
    "        \n",
    "        # add feature for malicious HTML tag count\n",
    "        feature1 = int(lowerStr.count('<link'))\n",
    "        feature1 += int(lowerStr.count('<object'))\n",
    "        feature1 += int(lowerStr.count('<form'))\n",
    "        feature1 += int(lowerStr.count('<embed'))\n",
    "        feature1 += int(lowerStr.count('<ilayer'))\n",
    "        feature1 += int(lowerStr.count('<layer'))\n",
    "        feature1 += int(lowerStr.count('<style'))\n",
    "        feature1 += int(lowerStr.count('<applet'))\n",
    "        feature1 += int(lowerStr.count('<meta'))\n",
    "        feature1 += int(lowerStr.count('<img'))\n",
    "        feature1 += int(lowerStr.count('<iframe'))\n",
    "        feature1 += int(lowerStr.count('<input'))\n",
    "        feature1 += int(lowerStr.count('<body'))\n",
    "        feature1 += int(lowerStr.count('<video'))\n",
    "        feature1 += int(lowerStr.count('<button'))\n",
    "        feature1 += int(lowerStr.count('<math'))\n",
    "        feature1 += int(lowerStr.count('<picture'))\n",
    "        feature1 += int(lowerStr.count('<map'))\n",
    "        feature1 += int(lowerStr.count('<svg'))\n",
    "        feature1 += int(lowerStr.count('<div'))\n",
    "        feature1 += int(lowerStr.count('<a'))\n",
    "        feature1 += int(lowerStr.count('<details'))\n",
    "        feature1 += int(lowerStr.count('<frameset'))\n",
    "        feature1 += int(lowerStr.count('<table'))\n",
    "        feature1 += int(lowerStr.count('<comment'))\n",
    "        feature1 += int(lowerStr.count('<base'))\n",
    "        feature1 += int(lowerStr.count('<image'))\n",
    "        # add feature for malicious method/event count\n",
    "        feature2 = int(lowerStr.count('exec'))\n",
    "        feature2 += int(lowerStr.count('fromcharcode'))\n",
    "        feature2 += int(lowerStr.count('eval'))\n",
    "        feature2 += int(lowerStr.count('alert'))\n",
    "        feature2 += int(lowerStr.count('getelementsbytagname'))\n",
    "        feature2 += int(lowerStr.count('write'))\n",
    "        feature2 += int(lowerStr.count('unescape'))\n",
    "        feature2 += int(lowerStr.count('escape'))\n",
    "        feature2 += int(lowerStr.count('prompt'))\n",
    "        feature2 += int(lowerStr.count('onload'))\n",
    "        feature2 += int(lowerStr.count('onclick'))\n",
    "        feature2 += int(lowerStr.count('onerror'))\n",
    "        feature2 += int(lowerStr.count('onpage'))\n",
    "        feature2 += int(lowerStr.count('confirm'))\n",
    "        feature2 += int(lowerStr.count('marquee'))\n",
    "        # add feature for \".js\" count\n",
    "        feature3 = int(lowerStr.count('.js'))\n",
    "        # add feature for \"javascript\" count\n",
    "        feature4 = int(lowerStr.count('javascript'))\n",
    "        # add feature for length of the string\n",
    "        feature5 = int(len(lowerStr))\n",
    "        # add feature for \"<script\"  count\n",
    "        feature6 = int(lowerStr.count('<script'))\n",
    "        feature6 += int(lowerStr.count('&lt;script'))\n",
    "        feature6 += int(lowerStr.count('%3cscript'))\n",
    "        feature6 += int(lowerStr.count('%3c%73%63%72%69%70%74'))\n",
    "        # add feature for special character count\n",
    "        feature7 = int(lowerStr.count('&'))\n",
    "        feature7 += int(lowerStr.count('<'))\n",
    "        feature7 += int(lowerStr.count('>'))\n",
    "        feature7 += int(lowerStr.count('\"'))\n",
    "        feature7 += int(lowerStr.count('\\''))\n",
    "        feature7 += int(lowerStr.count('/'))\n",
    "        feature7 += int(lowerStr.count('%'))\n",
    "        feature7 += int(lowerStr.count('*'))\n",
    "        feature7 += int(lowerStr.count(';'))\n",
    "        feature7 += int(lowerStr.count('+'))\n",
    "        feature7 += int(lowerStr.count('='))\n",
    "        feature7 += int(lowerStr.count('%3C'))\n",
    "        # add feature for http count\n",
    "        feature8 = int(lowerStr.count('http'))\n",
    "        \n",
    "        # append the features\n",
    "        featureVec = np.append(featureVec,feature1)\n",
    "        #featureVec = np.append(featureVec,feature2)\n",
    "        featureVec = np.append(featureVec,feature3)\n",
    "        featureVec = np.append(featureVec,feature4)\n",
    "        featureVec = np.append(featureVec,feature5)\n",
    "        featureVec = np.append(featureVec,feature6)\n",
    "        featureVec = np.append(featureVec,feature7)\n",
    "        #featureVec = np.append(featureVec,feature8)\n",
    "        #print(featureVec)\n",
    "        features.append(featureVec)\n",
    "    return features\n",
    "\n"
   ]
  },
  {
   "cell_type": "code",
   "execution_count": 51,
   "id": "e6bbe2c0-793b-4692-95f6-1ff9ec60a083",
   "metadata": {},
   "outputs": [
    {
     "name": "stdout",
     "output_type": "stream",
     "text": [
      "Building the sample vector model...\n",
      "*************************\n",
      "Model Saved\n"
     ]
    }
   ],
   "source": [
    "testText = [\n",
    "                'Search=%22%3E\\'%3E%3CSCRIPT%20SRC=http://br.zone-h.org/testes/xss.js%3E%3C/SCRIPT%3E?',\n",
    "                'id=15%3Cscript%3Ealert%28document.cookie%29%3C/script%3E',\n",
    "                'composite_search=1&keyword=\"/><script>alert(\"Xss:Vijayendra\")</script>'\n",
    "            ]\n",
    "Xnew = getVec(testText)\n",
    "\n"
   ]
  },
  {
   "cell_type": "code",
   "execution_count": null,
   "id": "4f980c0a-e765-4701-b6f1-194ca639273b",
   "metadata": {},
   "outputs": [],
   "source": []
  },
  {
   "cell_type": "code",
   "execution_count": 55,
   "id": "553448c8-737c-43a4-a1fa-3bdd3ef0963a",
   "metadata": {},
   "outputs": [
    {
     "name": "stdout",
     "output_type": "stream",
     "text": [
      "Test Sample: http://search.rin.ru/cgi-bin/find.cgi?text=%3Cscript%3Ealert(%27HZ+iz+1337%27)%3B%3C%2Fscript%3E\n",
      "\n",
      "Features: [-6.24447763e-01 -4.13311034e-01 -6.01661682e-01  5.03213704e-01\n",
      "  6.36102855e-01 -5.52833617e-01 -4.35218006e-01  6.05183132e-02\n",
      " -1.00900781e+00 -4.31261390e-01  8.01654100e-01  3.58711034e-01\n",
      " -7.71161079e-01 -7.21224248e-01 -5.78382909e-01 -5.30140162e-01\n",
      "  5.66670835e-01  3.06191474e-01 -1.28623760e+00 -6.65638626e-01\n",
      "  0.00000000e+00  1.00000000e+00  0.00000000e+00  6.70000000e+01\n",
      "  1.00000000e+00  1.50000000e+01]\n",
      "\n",
      "Label:\u001b[1;31;1m XSS(1)/\u001b[1;32;1m NOT XSS(0)\u001b[0;0m: 0\n"
     ]
    }
   ],
   "source": [
    "print(\"Test Sample: \"+ X[0])\n",
    "print(\"Features: \" + str(Xnew[0]))\n",
    "print(\"\\nLabel:\\033[1;31;1m XSS(1)/\\033[1;32;1m NOT XSS(0)\\033[0;0m: \" + str(y[0]))"
   ]
  },
  {
   "cell_type": "code",
   "execution_count": 56,
   "id": "5cb8e5dd-2c0e-4033-a6f7-ecd3fc459a69",
   "metadata": {},
   "outputs": [],
   "source": [
    "np.random.seed(42)\n",
    "\n",
    "from sklearn.model_selection import train_test_split\n",
    "X_train, X_test, y_train, y_test = train_test_split(Xnew, y, test_size = .3, random_state=42)"
   ]
  },
  {
   "cell_type": "code",
   "execution_count": 62,
   "id": "033c852c-2424-4e09-902d-99d9200d97a8",
   "metadata": {},
   "outputs": [
    {
     "name": "stdout",
     "output_type": "stream",
     "text": [
      "DecisionTreeClassifier(random_state=42)\n",
      "\n",
      "SVC(kernel='linear', random_state=42)\n",
      "\n",
      "GaussianNB()\n",
      "\n",
      "KNeighborsClassifier(n_neighbors=25)\n",
      "\n",
      "RandomForestClassifier(random_state=42)\n",
      "\n",
      "MLPClassifier(max_iter=2000, random_state=42)\n",
      "\n"
     ]
    }
   ],
   "source": [
    "# Use RandomState for reproducibility.\n",
    "from sklearn import tree\n",
    "my_classifier1 = tree.DecisionTreeClassifier(random_state=42)\n",
    "print(my_classifier1)\n",
    "print()\n",
    "\n",
    "from sklearn.svm import SVC\n",
    "my_classifier2 = SVC(kernel='linear', random_state=42)\n",
    "print(my_classifier2)\n",
    "print()\n",
    "\n",
    "from sklearn.naive_bayes import GaussianNB\n",
    "my_classifier3 = GaussianNB()\n",
    "print(my_classifier3)\n",
    "print()\n",
    "\n",
    "from sklearn.neighbors import KNeighborsClassifier\n",
    "my_classifier4 = KNeighborsClassifier(n_neighbors=25, weights='uniform')\n",
    "print(my_classifier4)\n",
    "print()\n",
    "\n",
    "from sklearn.ensemble import RandomForestClassifier\n",
    "my_classifier5 = RandomForestClassifier(random_state=42)\n",
    "print(my_classifier5)\n",
    "print()\n",
    "\n",
    "from sklearn.neural_network import MLPClassifier\n",
    "my_classifier6 = MLPClassifier(max_iter=2000, random_state=42)\n",
    "print(my_classifier6)\n",
    "print()\n",
    "\n",
    "\n",
    "\n"
   ]
  },
  {
   "cell_type": "code",
   "execution_count": 69,
   "id": "58e267d6-a902-4106-acda-1b6b23973018",
   "metadata": {},
   "outputs": [
    {
     "name": "stdout",
     "output_type": "stream",
     "text": [
      "Training Classifier #1 DecisionTreeClassifier\n"
     ]
    }
   ],
   "source": [
    "print(\"Training Classifier #1 DecisionTreeClassifier\")\n",
    "my_classifier1.fit(X_train, y_train)\n",
    "predictions1 = my_classifier1.predict(X_test)"
   ]
  },
  {
   "cell_type": "code",
   "execution_count": 70,
   "id": "70496ab8-6ef5-4b94-bc40-60c53e382278",
   "metadata": {},
   "outputs": [
    {
     "name": "stdout",
     "output_type": "stream",
     "text": [
      "Accuracy Score #1: 100.0%\n"
     ]
    }
   ],
   "source": [
    "from sklearn.metrics import accuracy_score\n",
    "print('Accuracy Score #1: {:.1%}'.format(accuracy_score(y_test, predictions1)))\n"
   ]
  },
  {
   "cell_type": "code",
   "execution_count": 71,
   "id": "c38d26b0-faf8-449f-99fd-7351f2463d23",
   "metadata": {},
   "outputs": [
    {
     "name": "stdout",
     "output_type": "stream",
     "text": [
      "Classification Report #1 DecisionTreeClassifier\n",
      "              precision    recall  f1-score   support\n",
      "\n",
      "           0       1.00      1.00      1.00         1\n",
      "\n",
      "    accuracy                           1.00         1\n",
      "   macro avg       1.00      1.00      1.00         1\n",
      "weighted avg       1.00      1.00      1.00         1\n",
      "\n"
     ]
    }
   ],
   "source": [
    "from sklearn.metrics import classification_report\n",
    "print(\"Classification Report #1 DecisionTreeClassifier\")\n",
    "print(classification_report(y_test, predictions1))\n"
   ]
  },
  {
   "cell_type": "code",
   "execution_count": 73,
   "id": "29bb8db1-2449-4f86-80ab-4f491c91c83c",
   "metadata": {},
   "outputs": [
    {
     "name": "stdout",
     "output_type": "stream",
     "text": [
      "Training Classifier #5 RandomForestClassifier\n"
     ]
    },
    {
     "data": {
      "text/html": [
       "<style>#sk-container-id-4 {color: black;}#sk-container-id-4 pre{padding: 0;}#sk-container-id-4 div.sk-toggleable {background-color: white;}#sk-container-id-4 label.sk-toggleable__label {cursor: pointer;display: block;width: 100%;margin-bottom: 0;padding: 0.3em;box-sizing: border-box;text-align: center;}#sk-container-id-4 label.sk-toggleable__label-arrow:before {content: \"▸\";float: left;margin-right: 0.25em;color: #696969;}#sk-container-id-4 label.sk-toggleable__label-arrow:hover:before {color: black;}#sk-container-id-4 div.sk-estimator:hover label.sk-toggleable__label-arrow:before {color: black;}#sk-container-id-4 div.sk-toggleable__content {max-height: 0;max-width: 0;overflow: hidden;text-align: left;background-color: #f0f8ff;}#sk-container-id-4 div.sk-toggleable__content pre {margin: 0.2em;color: black;border-radius: 0.25em;background-color: #f0f8ff;}#sk-container-id-4 input.sk-toggleable__control:checked~div.sk-toggleable__content {max-height: 200px;max-width: 100%;overflow: auto;}#sk-container-id-4 input.sk-toggleable__control:checked~label.sk-toggleable__label-arrow:before {content: \"▾\";}#sk-container-id-4 div.sk-estimator input.sk-toggleable__control:checked~label.sk-toggleable__label {background-color: #d4ebff;}#sk-container-id-4 div.sk-label input.sk-toggleable__control:checked~label.sk-toggleable__label {background-color: #d4ebff;}#sk-container-id-4 input.sk-hidden--visually {border: 0;clip: rect(1px 1px 1px 1px);clip: rect(1px, 1px, 1px, 1px);height: 1px;margin: -1px;overflow: hidden;padding: 0;position: absolute;width: 1px;}#sk-container-id-4 div.sk-estimator {font-family: monospace;background-color: #f0f8ff;border: 1px dotted black;border-radius: 0.25em;box-sizing: border-box;margin-bottom: 0.5em;}#sk-container-id-4 div.sk-estimator:hover {background-color: #d4ebff;}#sk-container-id-4 div.sk-parallel-item::after {content: \"\";width: 100%;border-bottom: 1px solid gray;flex-grow: 1;}#sk-container-id-4 div.sk-label:hover label.sk-toggleable__label {background-color: #d4ebff;}#sk-container-id-4 div.sk-serial::before {content: \"\";position: absolute;border-left: 1px solid gray;box-sizing: border-box;top: 0;bottom: 0;left: 50%;z-index: 0;}#sk-container-id-4 div.sk-serial {display: flex;flex-direction: column;align-items: center;background-color: white;padding-right: 0.2em;padding-left: 0.2em;position: relative;}#sk-container-id-4 div.sk-item {position: relative;z-index: 1;}#sk-container-id-4 div.sk-parallel {display: flex;align-items: stretch;justify-content: center;background-color: white;position: relative;}#sk-container-id-4 div.sk-item::before, #sk-container-id-4 div.sk-parallel-item::before {content: \"\";position: absolute;border-left: 1px solid gray;box-sizing: border-box;top: 0;bottom: 0;left: 50%;z-index: -1;}#sk-container-id-4 div.sk-parallel-item {display: flex;flex-direction: column;z-index: 1;position: relative;background-color: white;}#sk-container-id-4 div.sk-parallel-item:first-child::after {align-self: flex-end;width: 50%;}#sk-container-id-4 div.sk-parallel-item:last-child::after {align-self: flex-start;width: 50%;}#sk-container-id-4 div.sk-parallel-item:only-child::after {width: 0;}#sk-container-id-4 div.sk-dashed-wrapped {border: 1px dashed gray;margin: 0 0.4em 0.5em 0.4em;box-sizing: border-box;padding-bottom: 0.4em;background-color: white;}#sk-container-id-4 div.sk-label label {font-family: monospace;font-weight: bold;display: inline-block;line-height: 1.2em;}#sk-container-id-4 div.sk-label-container {text-align: center;}#sk-container-id-4 div.sk-container {/* jupyter's `normalize.less` sets `[hidden] { display: none; }` but bootstrap.min.css set `[hidden] { display: none !important; }` so we also need the `!important` here to be able to override the default hidden behavior on the sphinx rendered scikit-learn.org. See: https://github.com/scikit-learn/scikit-learn/issues/21755 */display: inline-block !important;position: relative;}#sk-container-id-4 div.sk-text-repr-fallback {display: none;}</style><div id=\"sk-container-id-4\" class=\"sk-top-container\"><div class=\"sk-text-repr-fallback\"><pre>RandomForestClassifier(random_state=42)</pre><b>In a Jupyter environment, please rerun this cell to show the HTML representation or trust the notebook. <br />On GitHub, the HTML representation is unable to render, please try loading this page with nbviewer.org.</b></div><div class=\"sk-container\" hidden><div class=\"sk-item\"><div class=\"sk-estimator sk-toggleable\"><input class=\"sk-toggleable__control sk-hidden--visually\" id=\"sk-estimator-id-4\" type=\"checkbox\" checked><label for=\"sk-estimator-id-4\" class=\"sk-toggleable__label sk-toggleable__label-arrow\">RandomForestClassifier</label><div class=\"sk-toggleable__content\"><pre>RandomForestClassifier(random_state=42)</pre></div></div></div></div></div>"
      ],
      "text/plain": [
       "RandomForestClassifier(random_state=42)"
      ]
     },
     "execution_count": 73,
     "metadata": {},
     "output_type": "execute_result"
    }
   ],
   "source": [
    "print(\"Training Classifier #5 RandomForestClassifier\")\n",
    "my_classifier5.fit(X_train, y_train)\n"
   ]
  },
  {
   "cell_type": "code",
   "execution_count": 74,
   "id": "ce617830-e377-4080-98d6-5fab56793ea6",
   "metadata": {},
   "outputs": [],
   "source": [
    "predictions5 = my_classifier5.predict(X_test)"
   ]
  },
  {
   "cell_type": "code",
   "execution_count": 75,
   "id": "7d8a3321-c3fb-41af-aae9-752e04ce6325",
   "metadata": {},
   "outputs": [
    {
     "name": "stdout",
     "output_type": "stream",
     "text": [
      "Accuracy Score #5: 100.0%\n"
     ]
    }
   ],
   "source": [
    "print('Accuracy Score #5: {:.1%}'.format(accuracy_score(y_test, predictions5)))"
   ]
  },
  {
   "cell_type": "code",
   "execution_count": 76,
   "id": "f3e9069e-ffa7-4ce6-8c5f-41fcfcce7c87",
   "metadata": {},
   "outputs": [
    {
     "name": "stdout",
     "output_type": "stream",
     "text": [
      "Classification Report #5 RandomForestClassifier\n",
      "              precision    recall  f1-score   support\n",
      "\n",
      "           0       1.00      1.00      1.00         1\n",
      "\n",
      "    accuracy                           1.00         1\n",
      "   macro avg       1.00      1.00      1.00         1\n",
      "weighted avg       1.00      1.00      1.00         1\n",
      "\n"
     ]
    }
   ],
   "source": [
    "print(\"Classification Report #5 RandomForestClassifier\")\n",
    "print(classification_report(y_test, predictions5))\n"
   ]
  },
  {
   "cell_type": "code",
   "execution_count": 77,
   "id": "2b5691a3-0d08-4a37-a2da-cce4af80c096",
   "metadata": {},
   "outputs": [
    {
     "name": "stdout",
     "output_type": "stream",
     "text": [
      "Training Classifier #4 KNeighborsClassifier\n"
     ]
    },
    {
     "data": {
      "text/html": [
       "<style>#sk-container-id-5 {color: black;}#sk-container-id-5 pre{padding: 0;}#sk-container-id-5 div.sk-toggleable {background-color: white;}#sk-container-id-5 label.sk-toggleable__label {cursor: pointer;display: block;width: 100%;margin-bottom: 0;padding: 0.3em;box-sizing: border-box;text-align: center;}#sk-container-id-5 label.sk-toggleable__label-arrow:before {content: \"▸\";float: left;margin-right: 0.25em;color: #696969;}#sk-container-id-5 label.sk-toggleable__label-arrow:hover:before {color: black;}#sk-container-id-5 div.sk-estimator:hover label.sk-toggleable__label-arrow:before {color: black;}#sk-container-id-5 div.sk-toggleable__content {max-height: 0;max-width: 0;overflow: hidden;text-align: left;background-color: #f0f8ff;}#sk-container-id-5 div.sk-toggleable__content pre {margin: 0.2em;color: black;border-radius: 0.25em;background-color: #f0f8ff;}#sk-container-id-5 input.sk-toggleable__control:checked~div.sk-toggleable__content {max-height: 200px;max-width: 100%;overflow: auto;}#sk-container-id-5 input.sk-toggleable__control:checked~label.sk-toggleable__label-arrow:before {content: \"▾\";}#sk-container-id-5 div.sk-estimator input.sk-toggleable__control:checked~label.sk-toggleable__label {background-color: #d4ebff;}#sk-container-id-5 div.sk-label input.sk-toggleable__control:checked~label.sk-toggleable__label {background-color: #d4ebff;}#sk-container-id-5 input.sk-hidden--visually {border: 0;clip: rect(1px 1px 1px 1px);clip: rect(1px, 1px, 1px, 1px);height: 1px;margin: -1px;overflow: hidden;padding: 0;position: absolute;width: 1px;}#sk-container-id-5 div.sk-estimator {font-family: monospace;background-color: #f0f8ff;border: 1px dotted black;border-radius: 0.25em;box-sizing: border-box;margin-bottom: 0.5em;}#sk-container-id-5 div.sk-estimator:hover {background-color: #d4ebff;}#sk-container-id-5 div.sk-parallel-item::after {content: \"\";width: 100%;border-bottom: 1px solid gray;flex-grow: 1;}#sk-container-id-5 div.sk-label:hover label.sk-toggleable__label {background-color: #d4ebff;}#sk-container-id-5 div.sk-serial::before {content: \"\";position: absolute;border-left: 1px solid gray;box-sizing: border-box;top: 0;bottom: 0;left: 50%;z-index: 0;}#sk-container-id-5 div.sk-serial {display: flex;flex-direction: column;align-items: center;background-color: white;padding-right: 0.2em;padding-left: 0.2em;position: relative;}#sk-container-id-5 div.sk-item {position: relative;z-index: 1;}#sk-container-id-5 div.sk-parallel {display: flex;align-items: stretch;justify-content: center;background-color: white;position: relative;}#sk-container-id-5 div.sk-item::before, #sk-container-id-5 div.sk-parallel-item::before {content: \"\";position: absolute;border-left: 1px solid gray;box-sizing: border-box;top: 0;bottom: 0;left: 50%;z-index: -1;}#sk-container-id-5 div.sk-parallel-item {display: flex;flex-direction: column;z-index: 1;position: relative;background-color: white;}#sk-container-id-5 div.sk-parallel-item:first-child::after {align-self: flex-end;width: 50%;}#sk-container-id-5 div.sk-parallel-item:last-child::after {align-self: flex-start;width: 50%;}#sk-container-id-5 div.sk-parallel-item:only-child::after {width: 0;}#sk-container-id-5 div.sk-dashed-wrapped {border: 1px dashed gray;margin: 0 0.4em 0.5em 0.4em;box-sizing: border-box;padding-bottom: 0.4em;background-color: white;}#sk-container-id-5 div.sk-label label {font-family: monospace;font-weight: bold;display: inline-block;line-height: 1.2em;}#sk-container-id-5 div.sk-label-container {text-align: center;}#sk-container-id-5 div.sk-container {/* jupyter's `normalize.less` sets `[hidden] { display: none; }` but bootstrap.min.css set `[hidden] { display: none !important; }` so we also need the `!important` here to be able to override the default hidden behavior on the sphinx rendered scikit-learn.org. See: https://github.com/scikit-learn/scikit-learn/issues/21755 */display: inline-block !important;position: relative;}#sk-container-id-5 div.sk-text-repr-fallback {display: none;}</style><div id=\"sk-container-id-5\" class=\"sk-top-container\"><div class=\"sk-text-repr-fallback\"><pre>KNeighborsClassifier(n_neighbors=25)</pre><b>In a Jupyter environment, please rerun this cell to show the HTML representation or trust the notebook. <br />On GitHub, the HTML representation is unable to render, please try loading this page with nbviewer.org.</b></div><div class=\"sk-container\" hidden><div class=\"sk-item\"><div class=\"sk-estimator sk-toggleable\"><input class=\"sk-toggleable__control sk-hidden--visually\" id=\"sk-estimator-id-5\" type=\"checkbox\" checked><label for=\"sk-estimator-id-5\" class=\"sk-toggleable__label sk-toggleable__label-arrow\">KNeighborsClassifier</label><div class=\"sk-toggleable__content\"><pre>KNeighborsClassifier(n_neighbors=25)</pre></div></div></div></div></div>"
      ],
      "text/plain": [
       "KNeighborsClassifier(n_neighbors=25)"
      ]
     },
     "execution_count": 77,
     "metadata": {},
     "output_type": "execute_result"
    }
   ],
   "source": [
    "print(\"Training Classifier #4 KNeighborsClassifier\")\n",
    "my_classifier4.fit(X_train, y_train)\n"
   ]
  },
  {
   "cell_type": "code",
   "execution_count": 80,
   "id": "899035b0-4399-4b23-bc1a-f5524fc00efa",
   "metadata": {},
   "outputs": [
    {
     "name": "stdout",
     "output_type": "stream",
     "text": [
      "\n",
      "Confusion Matrix #5 RandomForestClassifier\n",
      "[[1]]\n"
     ]
    }
   ],
   "source": [
    "from sklearn.metrics import confusion_matrix\n",
    "print(\"\\nConfusion Matrix #5 RandomForestClassifier\")\n",
    "print(confusion_matrix(y_test, predictions5))\n"
   ]
  },
  {
   "cell_type": "code",
   "execution_count": 82,
   "id": "c7c04621-6a20-4fd1-b20d-2af031be4d8f",
   "metadata": {},
   "outputs": [
    {
     "name": "stdout",
     "output_type": "stream",
     "text": [
      "Training Classifier #5 RandomForestClassifier\n"
     ]
    },
    {
     "data": {
      "text/html": [
       "<style>#sk-container-id-6 {color: black;}#sk-container-id-6 pre{padding: 0;}#sk-container-id-6 div.sk-toggleable {background-color: white;}#sk-container-id-6 label.sk-toggleable__label {cursor: pointer;display: block;width: 100%;margin-bottom: 0;padding: 0.3em;box-sizing: border-box;text-align: center;}#sk-container-id-6 label.sk-toggleable__label-arrow:before {content: \"▸\";float: left;margin-right: 0.25em;color: #696969;}#sk-container-id-6 label.sk-toggleable__label-arrow:hover:before {color: black;}#sk-container-id-6 div.sk-estimator:hover label.sk-toggleable__label-arrow:before {color: black;}#sk-container-id-6 div.sk-toggleable__content {max-height: 0;max-width: 0;overflow: hidden;text-align: left;background-color: #f0f8ff;}#sk-container-id-6 div.sk-toggleable__content pre {margin: 0.2em;color: black;border-radius: 0.25em;background-color: #f0f8ff;}#sk-container-id-6 input.sk-toggleable__control:checked~div.sk-toggleable__content {max-height: 200px;max-width: 100%;overflow: auto;}#sk-container-id-6 input.sk-toggleable__control:checked~label.sk-toggleable__label-arrow:before {content: \"▾\";}#sk-container-id-6 div.sk-estimator input.sk-toggleable__control:checked~label.sk-toggleable__label {background-color: #d4ebff;}#sk-container-id-6 div.sk-label input.sk-toggleable__control:checked~label.sk-toggleable__label {background-color: #d4ebff;}#sk-container-id-6 input.sk-hidden--visually {border: 0;clip: rect(1px 1px 1px 1px);clip: rect(1px, 1px, 1px, 1px);height: 1px;margin: -1px;overflow: hidden;padding: 0;position: absolute;width: 1px;}#sk-container-id-6 div.sk-estimator {font-family: monospace;background-color: #f0f8ff;border: 1px dotted black;border-radius: 0.25em;box-sizing: border-box;margin-bottom: 0.5em;}#sk-container-id-6 div.sk-estimator:hover {background-color: #d4ebff;}#sk-container-id-6 div.sk-parallel-item::after {content: \"\";width: 100%;border-bottom: 1px solid gray;flex-grow: 1;}#sk-container-id-6 div.sk-label:hover label.sk-toggleable__label {background-color: #d4ebff;}#sk-container-id-6 div.sk-serial::before {content: \"\";position: absolute;border-left: 1px solid gray;box-sizing: border-box;top: 0;bottom: 0;left: 50%;z-index: 0;}#sk-container-id-6 div.sk-serial {display: flex;flex-direction: column;align-items: center;background-color: white;padding-right: 0.2em;padding-left: 0.2em;position: relative;}#sk-container-id-6 div.sk-item {position: relative;z-index: 1;}#sk-container-id-6 div.sk-parallel {display: flex;align-items: stretch;justify-content: center;background-color: white;position: relative;}#sk-container-id-6 div.sk-item::before, #sk-container-id-6 div.sk-parallel-item::before {content: \"\";position: absolute;border-left: 1px solid gray;box-sizing: border-box;top: 0;bottom: 0;left: 50%;z-index: -1;}#sk-container-id-6 div.sk-parallel-item {display: flex;flex-direction: column;z-index: 1;position: relative;background-color: white;}#sk-container-id-6 div.sk-parallel-item:first-child::after {align-self: flex-end;width: 50%;}#sk-container-id-6 div.sk-parallel-item:last-child::after {align-self: flex-start;width: 50%;}#sk-container-id-6 div.sk-parallel-item:only-child::after {width: 0;}#sk-container-id-6 div.sk-dashed-wrapped {border: 1px dashed gray;margin: 0 0.4em 0.5em 0.4em;box-sizing: border-box;padding-bottom: 0.4em;background-color: white;}#sk-container-id-6 div.sk-label label {font-family: monospace;font-weight: bold;display: inline-block;line-height: 1.2em;}#sk-container-id-6 div.sk-label-container {text-align: center;}#sk-container-id-6 div.sk-container {/* jupyter's `normalize.less` sets `[hidden] { display: none; }` but bootstrap.min.css set `[hidden] { display: none !important; }` so we also need the `!important` here to be able to override the default hidden behavior on the sphinx rendered scikit-learn.org. See: https://github.com/scikit-learn/scikit-learn/issues/21755 */display: inline-block !important;position: relative;}#sk-container-id-6 div.sk-text-repr-fallback {display: none;}</style><div id=\"sk-container-id-6\" class=\"sk-top-container\"><div class=\"sk-text-repr-fallback\"><pre>RandomForestClassifier(random_state=42)</pre><b>In a Jupyter environment, please rerun this cell to show the HTML representation or trust the notebook. <br />On GitHub, the HTML representation is unable to render, please try loading this page with nbviewer.org.</b></div><div class=\"sk-container\" hidden><div class=\"sk-item\"><div class=\"sk-estimator sk-toggleable\"><input class=\"sk-toggleable__control sk-hidden--visually\" id=\"sk-estimator-id-6\" type=\"checkbox\" checked><label for=\"sk-estimator-id-6\" class=\"sk-toggleable__label sk-toggleable__label-arrow\">RandomForestClassifier</label><div class=\"sk-toggleable__content\"><pre>RandomForestClassifier(random_state=42)</pre></div></div></div></div></div>"
      ],
      "text/plain": [
       "RandomForestClassifier(random_state=42)"
      ]
     },
     "execution_count": 82,
     "metadata": {},
     "output_type": "execute_result"
    }
   ],
   "source": [
    "print(\"Training Classifier #5 RandomForestClassifier\")\n",
    "my_classifier5.fit(Xnew, y)\n"
   ]
  },
  {
   "cell_type": "code",
   "execution_count": 84,
   "id": "8dca2a79-904d-4086-9cdd-bbcdfe3fd168",
   "metadata": {},
   "outputs": [],
   "source": [
    "filename5 = 'RandomForestClassifier.sav'\n",
    "pickle.dump(my_classifier5, open(filename5, 'wb'))\n"
   ]
  },
  {
   "cell_type": "code",
   "execution_count": 85,
   "id": "1972c7fa-4294-45cb-8fa1-e50ebefd2852",
   "metadata": {},
   "outputs": [],
   "source": [
    "loaded_model5 = pickle.load(open(filename5, 'rb'))"
   ]
  },
  {
   "cell_type": "code",
   "execution_count": 86,
   "id": "e4ff8beb-5820-4767-bccb-c82022412213",
   "metadata": {},
   "outputs": [],
   "source": [
    "testXSS = [\n",
    "                '<script>alert(\\'xss\\')</script><script><script>',\n",
    "                'hellomo',\n",
    "                'https://store.bentley.com/en/shop/search?term=%22%3E%3Cdetails%20open%20ontoggle=prompt(1337)%3ExxLouisLouisLouis',\n",
    "                'ghfdhgdhjgd',\n",
    "                'uid%3D19%26list_page%3D%22%3E%3Cscript%3Ealert%28document.cookie%29%3B%3C/script%3E',\n",
    "                '&template=en_search_error&postalCode=\\\\\\';alert(0)//',\n",
    "                '&where=%3Cscript%3Ealert%28%27xss%27%29%3C%2Fscript%3E&loctypes=1003%2C1001%2C1000%2C1%2C9%2C5%2C11%2C13%2C19%2C20&from=hdr_localsearch',\n",
    "                'http://mydata.com/sad/sd/qwd/qwde/qwe/?sessionid=12',\n",
    "                'http://mydata.com?id=script',\n",
    "                '&\\';}},{scope:\\'email,user_about_me,user_hometown,user_interests,user_likes,user_status,user_website,user_birthday,publish_stream,publish_actions,offline_access\\'});}alert(0);b=function(response){c=({a:{//',\n",
    "                'http://myurl.com?<script',\n",
    "                'http://mydata.com?script=script',\n",
    "                'composite_search=1&keyword=\"/><script>alert(\"Xss:Vijayendra\")</script>',\n",
    "                'http://mysite.com?srtalert',\n",
    "                'script',\n",
    "                'alert',\n",
    "                'Search=%22%3E\\'%3E%3CSCRIPT%20SRC=http://br.zone-h.org/testes/xss.js%3E%3C/SCRIPT%3E?',\n",
    "                'id=15%3Cscript%3Ealert%28document.cookie%29%3C/script%3E',\n",
    "                'composite_search=1&keyword=\"/><script>alert(\"Xss:Vijayendra\")</script>',\n",
    "                'id=123&href=abdc<a<script>alert(1)',\n",
    "                '<<<<<<>>>>></>,><><>',\n",
    "                'alert()alert()',\n",
    "                'alertalert',\n",
    "                '?url=http://localhost:8888/notebooks/Documents/MachineLearning/Practical%20Machine%20Learning',\n",
    "                '<script<script',\n",
    "                '<scriptalert',\n",
    "                'httphttphttp',\n",
    "                'https://disqus.com/?ref_noscript',\n",
    "                'I am a string',\n",
    "                '<img src=\"javascript:alert(1)/>\"',\n",
    "                'HelloWorld!',\n",
    "                'http://mysite.com?<script>',\n",
    "                '<input type=\"text\" value=`` <div/onmouseover=\\'alert(471)\\'>X</div>',\n",
    "                '<img \\x47src=x onerror=\"javascript:alert(324)\">',\n",
    "                '<a href=\"\\xE2\\x80\\x87javascript:javascript:alert(183)\" id=\"fuzzelement1\">test</a>',\n",
    "                '<body onscroll=javascript:alert(288)><br><br><br><br><br><br>...<br><br><br><br><br><br><br><br><br><br>...<br><br><br><br><br><br><br><br><br><br>...<br><br><br><br><br><br><br><br><br><br>...<br><br><br><br><br><br><br><br><br><br>...<br><br><br><br><input autofocus>',\n",
    "                '<meta charset=\"mac-farsi\">¼script¾javascript:alert(379)¼/script¾',\n",
    "                '<HTML xmlns:xss><?import namespace=(493)s\" implementation=\"%(htc)s\"><xss:xss>XSS</xss:xss></HTML>\"\"\",\"XML namespace.\"),(\"\"\"<XML ID=(494)s\"><I><B>&lt;IMG SRC=\"javas<!-- -->cript:javascript:alert(420)\"&gt;</B></I></XML><SPAN DATASRC=\"#xss\" DATAFLD=\"B\" DATAFORMATAS=\"HTML\"></SPAN>'\n",
    "            ]\n"
   ]
  },
  {
   "cell_type": "code",
   "execution_count": 87,
   "id": "33e85927-84c2-4ceb-bb67-76df6dc69388",
   "metadata": {},
   "outputs": [
    {
     "name": "stdout",
     "output_type": "stream",
     "text": [
      "Building the sample vector model...\n",
      "*************************\n",
      "Model Saved\n"
     ]
    }
   ],
   "source": [
    "Xnew = getVec(testXSS)\n",
    "# make a prediction\n",
    "\n",
    "ynew5 = loaded_model5.predict(Xnew)\n"
   ]
  },
  {
   "cell_type": "code",
   "execution_count": 89,
   "id": "3bbfe77f-f76c-415f-b4e8-c347a60cd47c",
   "metadata": {},
   "outputs": [
    {
     "name": "stdout",
     "output_type": "stream",
     "text": [
      "0\n",
      "0.0\n",
      "\u001b[1;32;1mNOT XSS\u001b[0;0m => <script>alert('xss')</script><script><script>\n",
      "0\n",
      "0.0\n",
      "\u001b[1;32;1mNOT XSS\u001b[0;0m => hellomo\n",
      "0\n",
      "0.0\n",
      "\u001b[1;32;1mNOT XSS\u001b[0;0m => https://store.bentley.com/en/shop/search?term=%22%3E%3Cdetails%20open%20ontoggle=prompt(1337)%3ExxLouisLouisLouis\n",
      "0\n",
      "0.0\n",
      "\u001b[1;32;1mNOT XSS\u001b[0;0m => ghfdhgdhjgd\n",
      "0\n",
      "0.0\n",
      "\u001b[1;32;1mNOT XSS\u001b[0;0m => uid%3D19%26list_page%3D%22%3E%3Cscript%3Ealert%28document.cookie%29%3B%3C/script%3E\n",
      "0\n",
      "0.0\n",
      "\u001b[1;32;1mNOT XSS\u001b[0;0m => &template=en_search_error&postalCode=\\';alert(0)//\n",
      "0\n",
      "0.0\n",
      "\u001b[1;32;1mNOT XSS\u001b[0;0m => &where=%3Cscript%3Ealert%28%27xss%27%29%3C%2Fscript%3E&loctypes=1003%2C1001%2C1000%2C1%2C9%2C5%2C11%2C13%2C19%2C20&from=hdr_localsearch\n",
      "0\n",
      "0.0\n",
      "\u001b[1;32;1mNOT XSS\u001b[0;0m => http://mydata.com/sad/sd/qwd/qwde/qwe/?sessionid=12\n",
      "0\n",
      "0.0\n",
      "\u001b[1;32;1mNOT XSS\u001b[0;0m => http://mydata.com?id=script\n",
      "0\n",
      "0.0\n",
      "\u001b[1;32;1mNOT XSS\u001b[0;0m => &';}},{scope:'email,user_about_me,user_hometown,user_interests,user_likes,user_status,user_website,user_birthday,publish_stream,publish_actions,offline_access'});}alert(0);b=function(response){c=({a:{//\n",
      "0\n",
      "0.0\n",
      "\u001b[1;32;1mNOT XSS\u001b[0;0m => http://myurl.com?<script\n",
      "0\n",
      "0.0\n",
      "\u001b[1;32;1mNOT XSS\u001b[0;0m => http://mydata.com?script=script\n",
      "0\n",
      "0.0\n",
      "\u001b[1;32;1mNOT XSS\u001b[0;0m => composite_search=1&keyword=\"/><script>alert(\"Xss:Vijayendra\")</script>\n",
      "0\n",
      "0.0\n",
      "\u001b[1;32;1mNOT XSS\u001b[0;0m => http://mysite.com?srtalert\n",
      "0\n",
      "0.0\n",
      "\u001b[1;32;1mNOT XSS\u001b[0;0m => script\n",
      "0\n",
      "0.0\n",
      "\u001b[1;32;1mNOT XSS\u001b[0;0m => alert\n",
      "0\n",
      "0.0\n",
      "\u001b[1;32;1mNOT XSS\u001b[0;0m => Search=%22%3E'%3E%3CSCRIPT%20SRC=http://br.zone-h.org/testes/xss.js%3E%3C/SCRIPT%3E?\n",
      "0\n",
      "0.0\n",
      "\u001b[1;32;1mNOT XSS\u001b[0;0m => id=15%3Cscript%3Ealert%28document.cookie%29%3C/script%3E\n",
      "0\n",
      "0.0\n",
      "\u001b[1;32;1mNOT XSS\u001b[0;0m => composite_search=1&keyword=\"/><script>alert(\"Xss:Vijayendra\")</script>\n",
      "0\n",
      "0.0\n",
      "\u001b[1;32;1mNOT XSS\u001b[0;0m => id=123&href=abdc<a<script>alert(1)\n",
      "0\n",
      "0.0\n",
      "\u001b[1;32;1mNOT XSS\u001b[0;0m => <<<<<<>>>>></>,><><>\n",
      "0\n",
      "0.0\n",
      "\u001b[1;32;1mNOT XSS\u001b[0;0m => alert()alert()\n",
      "0\n",
      "0.0\n",
      "\u001b[1;32;1mNOT XSS\u001b[0;0m => alertalert\n",
      "0\n",
      "0.0\n",
      "\u001b[1;32;1mNOT XSS\u001b[0;0m => ?url=http://localhost:8888/notebooks/Documents/MachineLearning/Practical%20Machine%20Learning\n",
      "0\n",
      "0.0\n",
      "\u001b[1;32;1mNOT XSS\u001b[0;0m => <script<script\n",
      "0\n",
      "0.0\n",
      "\u001b[1;32;1mNOT XSS\u001b[0;0m => <scriptalert\n",
      "0\n",
      "0.0\n",
      "\u001b[1;32;1mNOT XSS\u001b[0;0m => httphttphttp\n",
      "0\n",
      "0.0\n",
      "\u001b[1;32;1mNOT XSS\u001b[0;0m => https://disqus.com/?ref_noscript\n",
      "0\n",
      "0.0\n",
      "\u001b[1;32;1mNOT XSS\u001b[0;0m => I am a string\n",
      "0\n",
      "0.0\n",
      "\u001b[1;32;1mNOT XSS\u001b[0;0m => <img src=\"javascript:alert(1)/>\"\n",
      "0\n",
      "0.0\n",
      "\u001b[1;32;1mNOT XSS\u001b[0;0m => HelloWorld!\n",
      "0\n",
      "0.0\n",
      "\u001b[1;32;1mNOT XSS\u001b[0;0m => http://mysite.com?<script>\n",
      "0\n",
      "0.0\n",
      "\u001b[1;32;1mNOT XSS\u001b[0;0m => <input type=\"text\" value=`` <div/onmouseover='alert(471)'>X</div>\n",
      "0\n",
      "0.0\n",
      "\u001b[1;32;1mNOT XSS\u001b[0;0m => <img Gsrc=x onerror=\"javascript:alert(324)\">\n",
      "0\n",
      "0.0\n",
      "\u001b[1;32;1mNOT XSS\u001b[0;0m => <a href=\"âjavascript:javascript:alert(183)\" id=\"fuzzelement1\">test</a>\n",
      "0\n",
      "0.0\n",
      "\u001b[1;32;1mNOT XSS\u001b[0;0m => <body onscroll=javascript:alert(288)><br><br><br><br><br><br>...<br><br><br><br><br><br><br><br><br><br>...<br><br><br><br><br><br><br><br><br><br>...<br><br><br><br><br><br><br><br><br><br>...<br><br><br><br><br><br><br><br><br><br>...<br><br><br><br><input autofocus>\n",
      "0\n",
      "0.0\n",
      "\u001b[1;32;1mNOT XSS\u001b[0;0m => <meta charset=\"mac-farsi\">¼script¾javascript:alert(379)¼/script¾\n",
      "0\n",
      "0.0\n",
      "\u001b[1;32;1mNOT XSS\u001b[0;0m => <HTML xmlns:xss><?import namespace=(493)s\" implementation=\"%(htc)s\"><xss:xss>XSS</xss:xss></HTML>\"\"\",\"XML namespace.\"),(\"\"\"<XML ID=(494)s\"><I><B>&lt;IMG SRC=\"javas<!-- -->cript:javascript:alert(420)\"&gt;</B></I></XML><SPAN DATASRC=\"#xss\" DATAFLD=\"B\" DATAFORMATAS=\"HTML\"></SPAN>\n",
      "\n",
      "*------------- RESULTS -------------*\n",
      "\u001b[1;31;1mXSS\u001b[0;0m => 0\n",
      "\u001b[1;32;1mNOT XSS\u001b[0;0m => 38\n"
     ]
    }
   ],
   "source": [
    "xssCount = 0 \n",
    "notXssCount = 0\n",
    "for i in range(len(Xnew)):\n",
    "    score = (.25*ynew5[i])\n",
    "    print(ynew5[i])\n",
    "    \n",
    "    print(score)\n",
    "    if score >= .5:\n",
    "        print(\"\\033[1;31;1mXSS\\033[0;0m => \"+testXSS[i])\n",
    "        xssCount += 1\n",
    "    else:\n",
    "        print(\"\\033[1;32;1mNOT XSS\\033[0;0m => \"+testXSS[i])\n",
    "        notXssCount += 1\n",
    "\n",
    "print()\n",
    "print(\"*------------- RESULTS -------------*\")\n",
    "print(\"\\033[1;31;1mXSS\\033[0;0m => \"+str(xssCount))\n",
    "print(\"\\033[1;32;1mNOT XSS\\033[0;0m => \"+str(notXssCount))"
   ]
  },
  {
   "cell_type": "code",
   "execution_count": null,
   "id": "734a726b-f277-4294-9fea-c823477aead0",
   "metadata": {},
   "outputs": [],
   "source": []
  }
 ],
 "metadata": {
  "kernelspec": {
   "display_name": "Python 3 (ipykernel)",
   "language": "python",
   "name": "python3"
  },
  "language_info": {
   "codemirror_mode": {
    "name": "ipython",
    "version": 3
   },
   "file_extension": ".py",
   "mimetype": "text/x-python",
   "name": "python",
   "nbconvert_exporter": "python",
   "pygments_lexer": "ipython3",
   "version": "3.12.1"
  }
 },
 "nbformat": 4,
 "nbformat_minor": 5
}
